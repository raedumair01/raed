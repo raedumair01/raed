{
  "nbformat": 4,
  "nbformat_minor": 0,
  "metadata": {
    "colab": {
      "provenance": []
    },
    "kernelspec": {
      "name": "python3",
      "display_name": "Python 3"
    },
    "language_info": {
      "name": "python"
    }
  },
  "cells": [
    {
      "cell_type": "code",
      "execution_count": 2,
      "metadata": {
        "id": "tjOqw6misY0H"
      },
      "outputs": [],
      "source": [
        "import pandas as pd"
      ]
    },
    {
      "cell_type": "code",
      "source": [
        "from sklearn.linear_model import LinearRegression"
      ],
      "metadata": {
        "id": "KJlGDshsskZk"
      },
      "execution_count": null,
      "outputs": []
    },
    {
      "cell_type": "code",
      "source": [
        "from sklearn.metrics import mean_squared_error"
      ],
      "metadata": {
        "id": "mSI0kW3cskIj"
      },
      "execution_count": null,
      "outputs": []
    },
    {
      "cell_type": "code",
      "source": [
        "from sklearn.model_selection import train_test_split"
      ],
      "metadata": {
        "id": "gQL9WdKDw6fB"
      },
      "execution_count": null,
      "outputs": []
    },
    {
      "cell_type": "code",
      "source": [
        "import matplotlib.pyplot as plt"
      ],
      "metadata": {
        "id": "KO-VQJktsm67"
      },
      "execution_count": null,
      "outputs": []
    },
    {
      "cell_type": "code",
      "source": [
        "import numpy as np"
      ],
      "metadata": {
        "id": "AJukFS5RlEju"
      },
      "execution_count": 1,
      "outputs": []
    },
    {
      "cell_type": "code",
      "source": [
        "data = pd.read_csv('/content/train.csv')"
      ],
      "metadata": {
        "id": "kbkMgP5FsmnK"
      },
      "execution_count": 4,
      "outputs": []
    },
    {
      "cell_type": "code",
      "source": [
        "data"
      ],
      "metadata": {
        "id": "VOTbARi_tODc",
        "colab": {
          "base_uri": "https://localhost:8080/",
          "height": 678
        },
        "outputId": "89f14e2a-8d38-4024-a56b-88f9173312c5"
      },
      "execution_count": 5,
      "outputs": [
        {
          "output_type": "execute_result",
          "data": {
            "text/plain": [
              "            Product_id  Stall_no             instock_date  Market_Category  \\\n",
              "0     BRAE2NF6JA5GUEXG      37.0  2015-08-22 18:36:12.000                2   \n",
              "1     TUNE8SFB6RJN2HSD      38.0  2016-03-27 21:19:13.000               24   \n",
              "2     BRAEAR7WZPQGPBZU       9.0  2015-08-18 19:25:22.000              447   \n",
              "3     WATDZ2ZQ8JPDHCTJ      50.0  2016-03-28 21:53:01.000               23   \n",
              "4     JWSEBUKYQPMBZ3RK       7.0  2016-03-29 22:58:53.000               63   \n",
              "...                ...       ...                      ...              ...   \n",
              "6363  WATE7VE2D62VEKW8      17.0  2016-03-28 19:55:43.000               24   \n",
              "6364  SHOEF9G8Z4ZXF6WE      21.0  2015-02-11 15:09:26.000               55   \n",
              "6365  PBXEB9ZQ7HHCFXYG      36.0  2015-11-19 17:29:21.000              358   \n",
              "6366  NKCEAGXHRYTNTMG7      27.0  2015-12-08 04:19:33.000              452   \n",
              "6367  CAGE53FSAFWZRHFF      11.0  2016-01-20 19:45:35.000               58   \n",
              "\n",
              "     Customer_name Loyalty_customer Product_Category  Grade  Demand  \\\n",
              "0         Lillyann              Yes          Fashion      1      68   \n",
              "1            Klynn              Yes          Fashion      0      51   \n",
              "2            Ridge              Yes       Child_care      0      10   \n",
              "3            Abran              Yes      Educational      2      48   \n",
              "4           Dustyn              Yes           Repair      1      35   \n",
              "...            ...              ...              ...    ...     ...   \n",
              "6363      Marquell              Yes       Technology      0      47   \n",
              "6364      Theodore              Yes       Child_care      0      35   \n",
              "6365         Galen              No            Repair      3      29   \n",
              "6366         Posey              Yes           Repair      0       8   \n",
              "6367        Cutler              Yes       Technology      0      94   \n",
              "\n",
              "      Discount_avail  charges_1  charges_2 (%)  Minimum_price  Maximum_price  \\\n",
              "0                0.0      376.0           11.0         2983.0         4713.0   \n",
              "1                0.0      397.0           12.0         7495.0        10352.0   \n",
              "2                0.0      250.0            9.0         5752.0         7309.0   \n",
              "3                0.0      144.0           13.0         5090.0        20814.0   \n",
              "4                1.0      211.0            4.0         2430.0         9261.0   \n",
              "...              ...        ...            ...            ...            ...   \n",
              "6363             0.0      614.0           10.0         8174.0        11266.0   \n",
              "6364             0.0      269.0            5.0         3564.0         4920.0   \n",
              "6365             0.0      283.0            3.0         5303.0        14614.0   \n",
              "6366             0.0      267.0            3.0         4334.0         5849.0   \n",
              "6367             0.0      614.0            7.0         3975.0         5383.0   \n",
              "\n",
              "      Selling_Price  \n",
              "0       4185.947700  \n",
              "1       9271.490256  \n",
              "2       6785.701362  \n",
              "3      13028.917824  \n",
              "4        906.553935  \n",
              "...             ...  \n",
              "6363   10277.520192  \n",
              "6364    4501.837200  \n",
              "6365   10218.878775  \n",
              "6366    5359.493997  \n",
              "6367    5220.013568  \n",
              "\n",
              "[6368 rows x 15 columns]"
            ],
            "text/html": [
              "\n",
              "  <div id=\"df-9b0d575b-6684-44dd-a7f4-89fb18f1e5f3\">\n",
              "    <div class=\"colab-df-container\">\n",
              "      <div>\n",
              "<style scoped>\n",
              "    .dataframe tbody tr th:only-of-type {\n",
              "        vertical-align: middle;\n",
              "    }\n",
              "\n",
              "    .dataframe tbody tr th {\n",
              "        vertical-align: top;\n",
              "    }\n",
              "\n",
              "    .dataframe thead th {\n",
              "        text-align: right;\n",
              "    }\n",
              "</style>\n",
              "<table border=\"1\" class=\"dataframe\">\n",
              "  <thead>\n",
              "    <tr style=\"text-align: right;\">\n",
              "      <th></th>\n",
              "      <th>Product_id</th>\n",
              "      <th>Stall_no</th>\n",
              "      <th>instock_date</th>\n",
              "      <th>Market_Category</th>\n",
              "      <th>Customer_name</th>\n",
              "      <th>Loyalty_customer</th>\n",
              "      <th>Product_Category</th>\n",
              "      <th>Grade</th>\n",
              "      <th>Demand</th>\n",
              "      <th>Discount_avail</th>\n",
              "      <th>charges_1</th>\n",
              "      <th>charges_2 (%)</th>\n",
              "      <th>Minimum_price</th>\n",
              "      <th>Maximum_price</th>\n",
              "      <th>Selling_Price</th>\n",
              "    </tr>\n",
              "  </thead>\n",
              "  <tbody>\n",
              "    <tr>\n",
              "      <th>0</th>\n",
              "      <td>BRAE2NF6JA5GUEXG</td>\n",
              "      <td>37.0</td>\n",
              "      <td>2015-08-22 18:36:12.000</td>\n",
              "      <td>2</td>\n",
              "      <td>Lillyann</td>\n",
              "      <td>Yes</td>\n",
              "      <td>Fashion</td>\n",
              "      <td>1</td>\n",
              "      <td>68</td>\n",
              "      <td>0.0</td>\n",
              "      <td>376.0</td>\n",
              "      <td>11.0</td>\n",
              "      <td>2983.0</td>\n",
              "      <td>4713.0</td>\n",
              "      <td>4185.947700</td>\n",
              "    </tr>\n",
              "    <tr>\n",
              "      <th>1</th>\n",
              "      <td>TUNE8SFB6RJN2HSD</td>\n",
              "      <td>38.0</td>\n",
              "      <td>2016-03-27 21:19:13.000</td>\n",
              "      <td>24</td>\n",
              "      <td>Klynn</td>\n",
              "      <td>Yes</td>\n",
              "      <td>Fashion</td>\n",
              "      <td>0</td>\n",
              "      <td>51</td>\n",
              "      <td>0.0</td>\n",
              "      <td>397.0</td>\n",
              "      <td>12.0</td>\n",
              "      <td>7495.0</td>\n",
              "      <td>10352.0</td>\n",
              "      <td>9271.490256</td>\n",
              "    </tr>\n",
              "    <tr>\n",
              "      <th>2</th>\n",
              "      <td>BRAEAR7WZPQGPBZU</td>\n",
              "      <td>9.0</td>\n",
              "      <td>2015-08-18 19:25:22.000</td>\n",
              "      <td>447</td>\n",
              "      <td>Ridge</td>\n",
              "      <td>Yes</td>\n",
              "      <td>Child_care</td>\n",
              "      <td>0</td>\n",
              "      <td>10</td>\n",
              "      <td>0.0</td>\n",
              "      <td>250.0</td>\n",
              "      <td>9.0</td>\n",
              "      <td>5752.0</td>\n",
              "      <td>7309.0</td>\n",
              "      <td>6785.701362</td>\n",
              "    </tr>\n",
              "    <tr>\n",
              "      <th>3</th>\n",
              "      <td>WATDZ2ZQ8JPDHCTJ</td>\n",
              "      <td>50.0</td>\n",
              "      <td>2016-03-28 21:53:01.000</td>\n",
              "      <td>23</td>\n",
              "      <td>Abran</td>\n",
              "      <td>Yes</td>\n",
              "      <td>Educational</td>\n",
              "      <td>2</td>\n",
              "      <td>48</td>\n",
              "      <td>0.0</td>\n",
              "      <td>144.0</td>\n",
              "      <td>13.0</td>\n",
              "      <td>5090.0</td>\n",
              "      <td>20814.0</td>\n",
              "      <td>13028.917824</td>\n",
              "    </tr>\n",
              "    <tr>\n",
              "      <th>4</th>\n",
              "      <td>JWSEBUKYQPMBZ3RK</td>\n",
              "      <td>7.0</td>\n",
              "      <td>2016-03-29 22:58:53.000</td>\n",
              "      <td>63</td>\n",
              "      <td>Dustyn</td>\n",
              "      <td>Yes</td>\n",
              "      <td>Repair</td>\n",
              "      <td>1</td>\n",
              "      <td>35</td>\n",
              "      <td>1.0</td>\n",
              "      <td>211.0</td>\n",
              "      <td>4.0</td>\n",
              "      <td>2430.0</td>\n",
              "      <td>9261.0</td>\n",
              "      <td>906.553935</td>\n",
              "    </tr>\n",
              "    <tr>\n",
              "      <th>...</th>\n",
              "      <td>...</td>\n",
              "      <td>...</td>\n",
              "      <td>...</td>\n",
              "      <td>...</td>\n",
              "      <td>...</td>\n",
              "      <td>...</td>\n",
              "      <td>...</td>\n",
              "      <td>...</td>\n",
              "      <td>...</td>\n",
              "      <td>...</td>\n",
              "      <td>...</td>\n",
              "      <td>...</td>\n",
              "      <td>...</td>\n",
              "      <td>...</td>\n",
              "      <td>...</td>\n",
              "    </tr>\n",
              "    <tr>\n",
              "      <th>6363</th>\n",
              "      <td>WATE7VE2D62VEKW8</td>\n",
              "      <td>17.0</td>\n",
              "      <td>2016-03-28 19:55:43.000</td>\n",
              "      <td>24</td>\n",
              "      <td>Marquell</td>\n",
              "      <td>Yes</td>\n",
              "      <td>Technology</td>\n",
              "      <td>0</td>\n",
              "      <td>47</td>\n",
              "      <td>0.0</td>\n",
              "      <td>614.0</td>\n",
              "      <td>10.0</td>\n",
              "      <td>8174.0</td>\n",
              "      <td>11266.0</td>\n",
              "      <td>10277.520192</td>\n",
              "    </tr>\n",
              "    <tr>\n",
              "      <th>6364</th>\n",
              "      <td>SHOEF9G8Z4ZXF6WE</td>\n",
              "      <td>21.0</td>\n",
              "      <td>2015-02-11 15:09:26.000</td>\n",
              "      <td>55</td>\n",
              "      <td>Theodore</td>\n",
              "      <td>Yes</td>\n",
              "      <td>Child_care</td>\n",
              "      <td>0</td>\n",
              "      <td>35</td>\n",
              "      <td>0.0</td>\n",
              "      <td>269.0</td>\n",
              "      <td>5.0</td>\n",
              "      <td>3564.0</td>\n",
              "      <td>4920.0</td>\n",
              "      <td>4501.837200</td>\n",
              "    </tr>\n",
              "    <tr>\n",
              "      <th>6365</th>\n",
              "      <td>PBXEB9ZQ7HHCFXYG</td>\n",
              "      <td>36.0</td>\n",
              "      <td>2015-11-19 17:29:21.000</td>\n",
              "      <td>358</td>\n",
              "      <td>Galen</td>\n",
              "      <td>No</td>\n",
              "      <td>Repair</td>\n",
              "      <td>3</td>\n",
              "      <td>29</td>\n",
              "      <td>0.0</td>\n",
              "      <td>283.0</td>\n",
              "      <td>3.0</td>\n",
              "      <td>5303.0</td>\n",
              "      <td>14614.0</td>\n",
              "      <td>10218.878775</td>\n",
              "    </tr>\n",
              "    <tr>\n",
              "      <th>6366</th>\n",
              "      <td>NKCEAGXHRYTNTMG7</td>\n",
              "      <td>27.0</td>\n",
              "      <td>2015-12-08 04:19:33.000</td>\n",
              "      <td>452</td>\n",
              "      <td>Posey</td>\n",
              "      <td>Yes</td>\n",
              "      <td>Repair</td>\n",
              "      <td>0</td>\n",
              "      <td>8</td>\n",
              "      <td>0.0</td>\n",
              "      <td>267.0</td>\n",
              "      <td>3.0</td>\n",
              "      <td>4334.0</td>\n",
              "      <td>5849.0</td>\n",
              "      <td>5359.493997</td>\n",
              "    </tr>\n",
              "    <tr>\n",
              "      <th>6367</th>\n",
              "      <td>CAGE53FSAFWZRHFF</td>\n",
              "      <td>11.0</td>\n",
              "      <td>2016-01-20 19:45:35.000</td>\n",
              "      <td>58</td>\n",
              "      <td>Cutler</td>\n",
              "      <td>Yes</td>\n",
              "      <td>Technology</td>\n",
              "      <td>0</td>\n",
              "      <td>94</td>\n",
              "      <td>0.0</td>\n",
              "      <td>614.0</td>\n",
              "      <td>7.0</td>\n",
              "      <td>3975.0</td>\n",
              "      <td>5383.0</td>\n",
              "      <td>5220.013568</td>\n",
              "    </tr>\n",
              "  </tbody>\n",
              "</table>\n",
              "<p>6368 rows × 15 columns</p>\n",
              "</div>\n",
              "      <button class=\"colab-df-convert\" onclick=\"convertToInteractive('df-9b0d575b-6684-44dd-a7f4-89fb18f1e5f3')\"\n",
              "              title=\"Convert this dataframe to an interactive table.\"\n",
              "              style=\"display:none;\">\n",
              "        \n",
              "  <svg xmlns=\"http://www.w3.org/2000/svg\" height=\"24px\"viewBox=\"0 0 24 24\"\n",
              "       width=\"24px\">\n",
              "    <path d=\"M0 0h24v24H0V0z\" fill=\"none\"/>\n",
              "    <path d=\"M18.56 5.44l.94 2.06.94-2.06 2.06-.94-2.06-.94-.94-2.06-.94 2.06-2.06.94zm-11 1L8.5 8.5l.94-2.06 2.06-.94-2.06-.94L8.5 2.5l-.94 2.06-2.06.94zm10 10l.94 2.06.94-2.06 2.06-.94-2.06-.94-.94-2.06-.94 2.06-2.06.94z\"/><path d=\"M17.41 7.96l-1.37-1.37c-.4-.4-.92-.59-1.43-.59-.52 0-1.04.2-1.43.59L10.3 9.45l-7.72 7.72c-.78.78-.78 2.05 0 2.83L4 21.41c.39.39.9.59 1.41.59.51 0 1.02-.2 1.41-.59l7.78-7.78 2.81-2.81c.8-.78.8-2.07 0-2.86zM5.41 20L4 18.59l7.72-7.72 1.47 1.35L5.41 20z\"/>\n",
              "  </svg>\n",
              "      </button>\n",
              "      \n",
              "  <style>\n",
              "    .colab-df-container {\n",
              "      display:flex;\n",
              "      flex-wrap:wrap;\n",
              "      gap: 12px;\n",
              "    }\n",
              "\n",
              "    .colab-df-convert {\n",
              "      background-color: #E8F0FE;\n",
              "      border: none;\n",
              "      border-radius: 50%;\n",
              "      cursor: pointer;\n",
              "      display: none;\n",
              "      fill: #1967D2;\n",
              "      height: 32px;\n",
              "      padding: 0 0 0 0;\n",
              "      width: 32px;\n",
              "    }\n",
              "\n",
              "    .colab-df-convert:hover {\n",
              "      background-color: #E2EBFA;\n",
              "      box-shadow: 0px 1px 2px rgba(60, 64, 67, 0.3), 0px 1px 3px 1px rgba(60, 64, 67, 0.15);\n",
              "      fill: #174EA6;\n",
              "    }\n",
              "\n",
              "    [theme=dark] .colab-df-convert {\n",
              "      background-color: #3B4455;\n",
              "      fill: #D2E3FC;\n",
              "    }\n",
              "\n",
              "    [theme=dark] .colab-df-convert:hover {\n",
              "      background-color: #434B5C;\n",
              "      box-shadow: 0px 1px 3px 1px rgba(0, 0, 0, 0.15);\n",
              "      filter: drop-shadow(0px 1px 2px rgba(0, 0, 0, 0.3));\n",
              "      fill: #FFFFFF;\n",
              "    }\n",
              "  </style>\n",
              "\n",
              "      <script>\n",
              "        const buttonEl =\n",
              "          document.querySelector('#df-9b0d575b-6684-44dd-a7f4-89fb18f1e5f3 button.colab-df-convert');\n",
              "        buttonEl.style.display =\n",
              "          google.colab.kernel.accessAllowed ? 'block' : 'none';\n",
              "\n",
              "        async function convertToInteractive(key) {\n",
              "          const element = document.querySelector('#df-9b0d575b-6684-44dd-a7f4-89fb18f1e5f3');\n",
              "          const dataTable =\n",
              "            await google.colab.kernel.invokeFunction('convertToInteractive',\n",
              "                                                     [key], {});\n",
              "          if (!dataTable) return;\n",
              "\n",
              "          const docLinkHtml = 'Like what you see? Visit the ' +\n",
              "            '<a target=\"_blank\" href=https://colab.research.google.com/notebooks/data_table.ipynb>data table notebook</a>'\n",
              "            + ' to learn more about interactive tables.';\n",
              "          element.innerHTML = '';\n",
              "          dataTable['output_type'] = 'display_data';\n",
              "          await google.colab.output.renderOutput(dataTable, element);\n",
              "          const docLink = document.createElement('div');\n",
              "          docLink.innerHTML = docLinkHtml;\n",
              "          element.appendChild(docLink);\n",
              "        }\n",
              "      </script>\n",
              "    </div>\n",
              "  </div>\n",
              "  "
            ]
          },
          "metadata": {},
          "execution_count": 5
        }
      ]
    },
    {
      "cell_type": "code",
      "source": [
        "data.info()"
      ],
      "metadata": {
        "id": "CV_qBCV4vr7U",
        "colab": {
          "base_uri": "https://localhost:8080/"
        },
        "outputId": "1e08be14-98f2-4035-b3de-6d1a9e4a85ff"
      },
      "execution_count": 6,
      "outputs": [
        {
          "output_type": "stream",
          "name": "stdout",
          "text": [
            "<class 'pandas.core.frame.DataFrame'>\n",
            "RangeIndex: 6368 entries, 0 to 6367\n",
            "Data columns (total 15 columns):\n",
            " #   Column            Non-Null Count  Dtype  \n",
            "---  ------            --------------  -----  \n",
            " 0   Product_id        6368 non-null   object \n",
            " 1   Stall_no          6363 non-null   float64\n",
            " 2   instock_date      6368 non-null   object \n",
            " 3   Market_Category   6368 non-null   int64  \n",
            " 4   Customer_name     6157 non-null   object \n",
            " 5   Loyalty_customer  6368 non-null   object \n",
            " 6   Product_Category  6368 non-null   object \n",
            " 7   Grade             6368 non-null   int64  \n",
            " 8   Demand            6368 non-null   int64  \n",
            " 9   Discount_avail    6330 non-null   float64\n",
            " 10  charges_1         6170 non-null   float64\n",
            " 11  charges_2 (%)     6163 non-null   float64\n",
            " 12  Minimum_price     6330 non-null   float64\n",
            " 13  Maximum_price     6025 non-null   float64\n",
            " 14  Selling_Price     6327 non-null   float64\n",
            "dtypes: float64(7), int64(3), object(5)\n",
            "memory usage: 746.4+ KB\n"
          ]
        }
      ]
    },
    {
      "cell_type": "code",
      "source": [
        "selected_features = ['Market_Category', 'Product_Category', 'Grade', 'Demand', 'Discount_avail', 'charges_1', 'charges_2 (%)', 'Minimum_price', 'Maximum_price']"
      ],
      "metadata": {
        "id": "t8K81TQ3v6JV"
      },
      "execution_count": 7,
      "outputs": []
    },
    {
      "cell_type": "code",
      "source": [
        "X = data[selected_features]\n",
        "y = data['Selling_Price']\n",
        "X,y"
      ],
      "metadata": {
        "id": "v_zBLh2KyShr",
        "colab": {
          "base_uri": "https://localhost:8080/"
        },
        "outputId": "2ac4b3eb-50db-4a9f-a940-e93c4536fd1c"
      },
      "execution_count": 11,
      "outputs": [
        {
          "output_type": "execute_result",
          "data": {
            "text/plain": [
              "(      Market_Category Product_Category  Grade  Demand  Discount_avail  \\\n",
              " 0                   2          Fashion      1      68             0.0   \n",
              " 1                  24          Fashion      0      51             0.0   \n",
              " 2                 447       Child_care      0      10             0.0   \n",
              " 3                  23      Educational      2      48             0.0   \n",
              " 4                  63           Repair      1      35             1.0   \n",
              " ...               ...              ...    ...     ...             ...   \n",
              " 6363               24       Technology      0      47             0.0   \n",
              " 6364               55       Child_care      0      35             0.0   \n",
              " 6365              358           Repair      3      29             0.0   \n",
              " 6366              452           Repair      0       8             0.0   \n",
              " 6367               58       Technology      0      94             0.0   \n",
              " \n",
              "       charges_1  charges_2 (%)  Minimum_price  Maximum_price  \n",
              " 0         376.0           11.0         2983.0         4713.0  \n",
              " 1         397.0           12.0         7495.0        10352.0  \n",
              " 2         250.0            9.0         5752.0         7309.0  \n",
              " 3         144.0           13.0         5090.0        20814.0  \n",
              " 4         211.0            4.0         2430.0         9261.0  \n",
              " ...         ...            ...            ...            ...  \n",
              " 6363      614.0           10.0         8174.0        11266.0  \n",
              " 6364      269.0            5.0         3564.0         4920.0  \n",
              " 6365      283.0            3.0         5303.0        14614.0  \n",
              " 6366      267.0            3.0         4334.0         5849.0  \n",
              " 6367      614.0            7.0         3975.0         5383.0  \n",
              " \n",
              " [6368 rows x 9 columns],\n",
              " 0        4185.947700\n",
              " 1        9271.490256\n",
              " 2        6785.701362\n",
              " 3       13028.917824\n",
              " 4         906.553935\n",
              "             ...     \n",
              " 6363    10277.520192\n",
              " 6364     4501.837200\n",
              " 6365    10218.878775\n",
              " 6366     5359.493997\n",
              " 6367     5220.013568\n",
              " Name: Selling_Price, Length: 6368, dtype: float64)"
            ]
          },
          "metadata": {},
          "execution_count": 11
        }
      ]
    },
    {
      "cell_type": "code",
      "source": [
        "from sklearn.model_selection import train_test_split\n",
        "X_train, X_test, y_train, y_test = train_test_split(X, y, test_size=0.2, random_state=42)\n"
      ],
      "metadata": {
        "id": "M5E13EPbv9eQ"
      },
      "execution_count": 12,
      "outputs": []
    },
    {
      "cell_type": "code",
      "source": [
        "from sklearn.linear_model import LinearRegression\n",
        "data = pd.read_csv('/content/train.csv')\n",
        "data.dropna(inplace=True)\n",
        "model = LinearRegression()\n",
        "X\n",
        "\n",
        "X = data[['Discount_avail', 'charges_1', 'charges_2 (%)','Minimum_price','Maximum_price']].astype(float)\n",
        "\n",
        "y= data[['Selling_Price']].astype(float)\n",
        "model.fit(X,y)\n",
        "print(model.coef_)\n",
        "print(model.intercept_)"
      ],
      "metadata": {
        "colab": {
          "base_uri": "https://localhost:8080/"
        },
        "id": "W2utLMSVnA7x",
        "outputId": "342332d0-2463-49e6-adf5-097b4adcba55"
      },
      "execution_count": 39,
      "outputs": [
        {
          "output_type": "stream",
          "name": "stdout",
          "text": [
            "[[-4.44335019e+03  9.80063649e-01  3.67433795e-01  4.39164285e-01\n",
            "   4.27269009e-01]]\n",
            "[631.4111291]\n"
          ]
        }
      ]
    },
    {
      "cell_type": "code",
      "source": [
        "from sklearn.metrics import mean_squared_error\n",
        "y_pred = model.predict(X)\n",
        "\n",
        "rmse = mean_squared_error(y, y_pred, squared=False)\n",
        "print(rmse)\n",
        "     "
      ],
      "metadata": {
        "colab": {
          "base_uri": "https://localhost:8080/"
        },
        "id": "B2daPnolrjFB",
        "outputId": "0f65dcfe-d9e1-4c11-f765-6b06699ae0ac"
      },
      "execution_count": 40,
      "outputs": [
        {
          "output_type": "stream",
          "name": "stdout",
          "text": [
            "946.0281326065796\n"
          ]
        }
      ]
    },
    {
      "cell_type": "code",
      "source": [
        "import matplotlib.pyplot as plt\n",
        "\n",
        "plt.scatter(data['Discount_avail'], data['Selling_Price'], color='blue')\n",
        "plt.scatter(data['charges_1'], data['Selling_Price'], color='red')\n",
        "plt.scatter(data['charges_2 (%)'], data['Selling_Price'], color='green')\n",
        "plt.show()"
      ],
      "metadata": {
        "colab": {
          "base_uri": "https://localhost:8080/",
          "height": 430
        },
        "id": "VVO95jH_rlOm",
        "outputId": "7fc62fbe-70e2-4447-c2a2-b64e7e84fb0d"
      },
      "execution_count": 42,
      "outputs": [
        {
          "output_type": "display_data",
          "data": {
            "text/plain": [
              "<Figure size 640x480 with 1 Axes>"
            ],
            "image/png": "[encoded data removed]"
          },
          "metadata": {}
        }
      ]
    },
    {
      "cell_type": "markdown",
      "source": [
        "# New Section"
      ],
      "metadata": {
        "id": "Jak0k5ywsHQs"
      }
    }
  ]
}